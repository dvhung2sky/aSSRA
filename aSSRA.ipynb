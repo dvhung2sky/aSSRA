{
 "cells": [
  {
   "cell_type": "code",
   "execution_count": 2,
   "metadata": {
    "id": "iox7gpH8EBac"
   },
   "outputs": [],
   "source": [
    "import os\n",
    "import gc\n",
    "import numpy as np\n",
    "import pandas as pd\n",
    "pd.options.mode.chained_assignment = None\n",
    "import matplotlib.pyplot as plt\n",
    "%matplotlib inline\n",
    "from scipy.stats import norm\n",
    "import json\n",
    "import enum\n",
    "import sklearn.preprocessing\n",
    "import argparse\n",
    "import tensorflow as tf\n",
    "from tensorflow import keras\n",
    "from tensorflow.keras import layers\n",
    "from tensorflow.keras.layers import *\n",
    "import pickle\n",
    "import math\n",
    "from scipy import interpolate\n",
    "import random\n",
    "import time\n",
    "from lightgbm import LGBMRegressor\n",
    "from sklearn.metrics import mean_absolute_error\n",
    "from sklearn.multioutput import MultiOutputRegressor\n"
   ]
  },
  {
   "cell_type": "code",
   "execution_count": 3,
   "metadata": {
    "id": "g2Mz6cy4K7um"
   },
   "outputs": [],
   "source": [
    "from matplotlib import rcParams, rc\n",
    "rcParams['font.family'] = 'serif'\n",
    "rcParams['font.sans-serif'] = ['Time New Roman']\n",
    "fsize = 12\n",
    "rcParams.update({'font.size': fsize})"
   ]
  },
  {
   "cell_type": "code",
   "execution_count": 4,
   "metadata": {
    "id": "nEkpRjFQSFXM"
   },
   "outputs": [],
   "source": [
    "def getPositionEncoding(seq_len, d, n=10000):\n",
    "    P = np.zeros((seq_len, d))\n",
    "    for k in range(seq_len):\n",
    "        for i in np.arange(int(d/2)):\n",
    "            denominator = np.power(n, 2*i/d)\n",
    "            P[k, 2*i] = np.sin(k/denominator)\n",
    "            P[k, 2*i+1] = np.cos(k/denominator)\n",
    "    return P\n"
   ]
  },
  {
   "cell_type": "code",
   "execution_count": 48,
   "metadata": {
    "colab": {
     "base_uri": "https://localhost:8080/",
     "height": 176
    },
    "id": "SQ0xgBISnVKh",
    "outputId": "e9ab4577-9114-4f3d-9de7-821a65f45173"
   },
   "outputs": [],
   "source": [
    "with open(f'example_MC.p', 'rb') as f:\n",
    "    df_new = pickle.load(f)\n",
    "\n",
    "with open(f'example_train.p', 'rb') as f:\n",
    "    df_train = pickle.load(f)\n",
    "    df_train = df_train.reset_index()\n",
    "\n",
    "with open(f'example_valid.p', 'rb') as f:\n",
    "    df_valid = pickle.load(f)\n",
    "    df_valid = df_valid.reset_index()\n"
   ]
  },
  {
   "cell_type": "code",
   "execution_count": 49,
   "metadata": {
    "colab": {
     "base_uri": "https://localhost:8080/"
    },
    "id": "MbQkByZwTN9N",
    "outputId": "246590e7-7124-489e-b035-20670da46347"
   },
   "outputs": [
    {
     "name": "stdout",
     "output_type": "stream",
     "text": [
      "['disp_ground', 'encode_0', 'encode_1']\n",
      "['disp_2', 'disp_3', 'disp_4', 'disp_5', 'disp_6']\n"
     ]
    }
   ],
   "source": [
    "list_output_time = []\n",
    "list_static = []\n",
    "L_signal_input = len(df_new['disp_ground'][0])\n",
    "\n",
    "Ndim_encoding = 2\n",
    "P_encoding = getPositionEncoding(seq_len=L_signal_input, d=Ndim_encoding, n=10000)\n",
    "list_input_time = ['disp_ground']+[f'encode_{d}' for d in range(Ndim_encoding)]\n",
    "# list_input_time = ['disp_ground']\n",
    "\n",
    "for k in list(df_new):\n",
    "  if (str(k)[:4] == 'disp') & (str(k)[-1] != 'd'):\n",
    "    list_output_time.append(k)\n",
    "\n",
    "  if str(k)[:4] != 'disp':\n",
    "    list_static.append(k)\n",
    "\n",
    "print(list_input_time)\n",
    "print(list_output_time)"
   ]
  },
  {
   "cell_type": "code",
   "execution_count": 50,
   "metadata": {
    "id": "H16PO0a5fnuK"
   },
   "outputs": [],
   "source": [
    "max_disp = [np.max(np.abs(df_new[list_output_time[-1]][idx])) for idx in range(len(df_new))]\n",
    "df_new['max_disp'] = max_disp\n",
    "\n",
    "for d in range(Ndim_encoding):\n",
    "  df_new[f'encode_{d}'] = [P_encoding[:,d]]*len(df_new)\n"
   ]
  },
  {
   "cell_type": "code",
   "execution_count": 51,
   "metadata": {
    "id": "OkGhmPjYXreO"
   },
   "outputs": [],
   "source": [
    "L_all, L_out = 500, 100\n",
    "sliding_step = 600\n",
    "list_time_series = list_input_time + list_output_time\n",
    "L_in = L_all-L_out\n",
    "N_input= len(list_input_time)\n",
    "N_output= len(list_output_time)\n",
    "N_static = len(list_static)\n",
    "N_time_series = len(list_input_time)+len(list_output_time)+1"
   ]
  },
  {
   "cell_type": "code",
   "execution_count": 52,
   "metadata": {
    "id": "v8bsbHyKUX2g"
   },
   "outputs": [],
   "source": [
    "static_scaler = sklearn.preprocessing.StandardScaler().fit(df_new[list_static].values)\n",
    "target = np.array([df_new[i][0] for i in list_output_time]).T\n",
    "target_scaler = sklearn.preprocessing.StandardScaler().fit(target)\n",
    "real = np.array([df_new[i][0] for i in list_time_series]).T\n",
    "real_scaler = sklearn.preprocessing.StandardScaler().fit(real)"
   ]
  },
  {
   "cell_type": "code",
   "execution_count": 53,
   "metadata": {
    "id": "L-dPVlzYw1iy"
   },
   "outputs": [],
   "source": [
    "def prepare_data(x, N1, N2, j = 2):\n",
    "# N1: L_input, N2: L_output, j: sliding_step between 2 segments\n",
    "  N0 = len(x)\n",
    "  xxx = np.stack([x[i:N0 - N1+i+1:j, :] for i in range(N1)], axis=1)\n",
    "  y = xxx[:,-N2:,-len(list_output_time):]\n",
    "\n",
    "  return np.array(xxx), np.array(y)"
   ]
  },
  {
   "cell_type": "code",
   "execution_count": 54,
   "metadata": {
    "id": "HzuQOiDJe1AW"
   },
   "outputs": [],
   "source": [
    "### Retrain model with selected data\n",
    "def gen_data_AI(df_new, list_idx):\n",
    "  list_static_data = []\n",
    "  list_X_data = []\n",
    "  list_Y_label = []\n",
    "\n",
    "  for idx in list_idx:\n",
    "    len_signal = np.min([len(df_new[k][idx]) for k in list_time_series ])\n",
    "    static = np.array([df_new[k][idx] for k in list_static ]).reshape(1,-1)\n",
    "    scaled_static = static_scaler.transform(static)\n",
    "    signal = np.array([df_new[k][idx][:len_signal] for k in list_time_series ]).T\n",
    "    signal = np.pad(signal,((L_all,0),(0,0)),constant_values=0.0)\n",
    "    scaled_signal = real_scaler.transform(signal)\n",
    "\n",
    "    X_data, Y_label = prepare_data(scaled_signal, L_all, L_out, j = sliding_step)\n",
    "    list_X_data.append(X_data)\n",
    "    list_Y_label.append(Y_label)\n",
    "    list_static_data.append(np.repeat(scaled_static, len(Y_label), axis = 0))\n",
    "\n",
    "\n",
    "\n",
    "  redata = np.concatenate(list_X_data, axis = 0)\n",
    "  relabel = np.concatenate(list_Y_label, axis = 0)\n",
    "  restatic = np.concatenate(list_static_data, axis = 0)\n",
    "  xx = np.zeros((np.shape(redata)[0], np.shape(redata)[1], 1))\n",
    "  xx[:,:np.shape(restatic)[-1],0]=restatic\n",
    "  retrain_data = np.concatenate((redata, xx), axis=-1)\n",
    "\n",
    "  return retrain_data, relabel, restatic"
   ]
  },
  {
   "cell_type": "code",
   "execution_count": 55,
   "metadata": {
    "colab": {
     "base_uri": "https://localhost:8080/"
    },
    "id": "jqnk2-Fw6G__",
    "outputId": "b1d405a4-383a-4a2c-9758-1362cf1e695c"
   },
   "outputs": [
    {
     "data": {
      "text/plain": [
       "0"
      ]
     },
     "execution_count": 55,
     "metadata": {},
     "output_type": "execute_result"
    }
   ],
   "source": [
    "gc.collect(2)\n",
    "gc.collect(2)"
   ]
  },
  {
   "cell_type": "code",
   "execution_count": 56,
   "metadata": {
    "id": "z2PzyxulVHlx"
   },
   "outputs": [],
   "source": [
    "def inference_2(model, df_new, idx):\n",
    "  len_signal = np.min([len(df_new[k][idx]) for k in list_time_series ])\n",
    "  static = np.array([df_new[k][idx] for k in list_static ]).reshape(1,-1)\n",
    "  scaled_static = static_scaler.transform(static)\n",
    "  signal = np.array([df_new[k][idx][:len_signal] for k in list_time_series ]).T\n",
    "  signal = np.pad(signal,((L_all,0),(0,0)),constant_values=0.0)\n",
    "  scaled_signal = real_scaler.transform(signal)\n",
    "\n",
    "  data, label = prepare_data(scaled_signal, L_all, L_out, j = L_out)\n",
    "  static = np.repeat(scaled_static, len(label), axis = 0)    # static: (N_segment, N_static)\n",
    "\n",
    "  # combine static to time-varying input\n",
    "  xx = np.zeros((data.shape[0], L_all, 1))\n",
    "  xx[:,:N_static,0]=static\n",
    "  x_input = np.concatenate((data, xx), axis=-1)\n",
    "  L_signal = (np.shape(data)[0]-1)*L_out\n",
    "\n",
    "  # initial a long output time-series with zero\n",
    "  y_predict_all = np.zeros((L_signal+L_all, N_output))\n",
    "\n",
    "  # Starting prediction loop\n",
    "  itx = L_all\n",
    "  for j in range(int(L_signal/L_out)+1):\n",
    "    x_input[j,:L_all, N_input:N_time_series-1] = y_predict_all[itx-L_all:itx,:]\n",
    "    y_pred = model.predict(x_input[j:j+1,:,:], batch_size=128, verbose=0)\n",
    "    y_predict_all[itx-L_out:itx,:] = y_pred[:,:,:]\n",
    "    itx += L_out\n",
    "\n",
    "\n",
    "  # Rescale back time-varying output\n",
    "  y_predict_all = target_scaler.inverse_transform(y_predict_all)\n",
    "\n",
    "  return y_predict_all"
   ]
  },
  {
   "cell_type": "code",
   "execution_count": 57,
   "metadata": {
    "id": "oKfZW7RjjOij"
   },
   "outputs": [],
   "source": [
    "idx_train = np.arange(len(df_train))\n",
    "train_data, train_label, train_static = gen_data_AI(df_train, idx_train)\n",
    "idx_valid = np.arange(len(df_valid))\n",
    "val_data, val_label, val_static = gen_data_AI(df_valid, idx_valid)\n"
   ]
  },
  {
   "cell_type": "code",
   "execution_count": 59,
   "metadata": {
    "id": "vJPlFOLNol-w"
   },
   "outputs": [],
   "source": [
    "all_callbacks = [tf.keras.callbacks.ModelCheckpoint('ex.weights.h5', monitor='val_loss', save_best_only=True, save_weights_only=True)]"
   ]
  },
  {
   "cell_type": "code",
   "execution_count": 60,
   "metadata": {},
   "outputs": [],
   "source": [
    "def tf_quantile_loss(y, y_pred, tau=0.5):\n",
    "    error = tf.keras.ops.subtract(y, y_pred)\n",
    "    loss = tf.keras.ops.mean(tf.keras.ops.maximum(tau * error, (tau - 1) * error))    \n",
    "    return loss"
   ]
  },
  {
   "cell_type": "code",
   "execution_count": 61,
   "metadata": {
    "id": "qKp4ElhKlYMw"
   },
   "outputs": [],
   "source": [
    "def train_model(model, train_data, train_label, val_data, val_label, list_lr=[0.001], Nepoch=20):\n",
    "  t_start = time.time()\n",
    "  for lr in list_lr:\n",
    "    adam = tf.keras.optimizers.Adam(learning_rate=lr)\n",
    "    model.compile(loss=tf.keras.losses.mae, optimizer=adam)\n",
    "    history = model.fit( x=train_data, y=train_label, epochs=Nepoch, batch_size=512,\n",
    "            validation_data=(val_data, val_label), callbacks=all_callbacks, shuffle=True, verbose = True)\n",
    "\n",
    "  t_end = time.time()\n",
    "  t_cal = t_end - t_start\n",
    "  return model, history, t_cal\n"
   ]
  },
  {
   "cell_type": "code",
   "execution_count": 62,
   "metadata": {
    "id": "Qr9Js5TRAd6t"
   },
   "outputs": [],
   "source": [
    "def aSSRA():\n",
    "  output0 = tf.keras.ops.zeros_like(all_inputs[:, L_in:, N_input:N_time_series-1] )\n",
    "  historical_features = tf.keras.ops.concatenate([all_inputs[:, :L_in, N_input:N_time_series-1], output0], axis=1)\n",
    "  future_features = all_inputs[:, :, :N_input]\n",
    "  input_static = tf.keras.ops.expand_dims(all_inputs[:, :N_static, -1] , axis = 1)\n",
    "  static_features = tf.keras.ops.repeat(input_static, L_all, axis=1)  # add static features to every time steps\n",
    "  features = tf.keras.ops.concatenate([historical_features, future_features, static_features], axis=2)\n",
    "  features = tf.keras.layers.Conv1D(filters=32, kernel_size=32, strides=4, padding='same', activation='relu', data_format=\"channels_last\")(features)\n",
    "  features = tf.keras.layers.GRU(units = 32, return_sequences=True, return_state=False)(features) # inputs = (32, 10, 8) --> outputs: (32, 10, 16)\n",
    "  features_att = tf.keras.layers.MultiHeadAttention(num_heads=4, key_dim=32, value_dim=32)(features, features)\n",
    "  features = features + features_att\n",
    "  features = tf.keras.ops.transpose(features, axes=[0, 2, 1])\n",
    "  features = tf.keras.layers.Dense(units=L_out, activation='relu')(features)\n",
    "  features = tf.keras.ops.transpose(features, axes=[0, 2, 1])\n",
    "  features = tf.keras.layers.Dense(units=N_output)(features)\n",
    "  return features\n"
   ]
  },
  {
   "cell_type": "code",
   "execution_count": 63,
   "metadata": {
    "id": "UgbnaOWKvqHq"
   },
   "outputs": [
    {
     "name": "stdout",
     "output_type": "stream",
     "text": [
      "Epoch 1/100\n",
      "\u001b[1m6/6\u001b[0m \u001b[32m━━━━━━━━━━━━━━━━━━━━\u001b[0m\u001b[37m\u001b[0m \u001b[1m24s\u001b[0m 4s/step - loss: 0.6301 - val_loss: 0.5802\n",
      "Epoch 2/100\n",
      "\u001b[1m6/6\u001b[0m \u001b[32m━━━━━━━━━━━━━━━━━━━━\u001b[0m\u001b[37m\u001b[0m \u001b[1m18s\u001b[0m 3s/step - loss: 0.5771 - val_loss: 0.5682\n",
      "Epoch 3/100\n",
      "\u001b[1m6/6\u001b[0m \u001b[32m━━━━━━━━━━━━━━━━━━━━\u001b[0m\u001b[37m\u001b[0m \u001b[1m18s\u001b[0m 3s/step - loss: 0.5670 - val_loss: 0.5532\n",
      "Epoch 4/100\n",
      "\u001b[1m6/6\u001b[0m \u001b[32m━━━━━━━━━━━━━━━━━━━━\u001b[0m\u001b[37m\u001b[0m \u001b[1m18s\u001b[0m 3s/step - loss: 0.5467 - val_loss: 0.5265\n",
      "Epoch 5/100\n",
      "\u001b[1m6/6\u001b[0m \u001b[32m━━━━━━━━━━━━━━━━━━━━\u001b[0m\u001b[37m\u001b[0m \u001b[1m17s\u001b[0m 3s/step - loss: 0.5159 - val_loss: 0.4887\n",
      "Epoch 6/100\n",
      "\u001b[1m6/6\u001b[0m \u001b[32m━━━━━━━━━━━━━━━━━━━━\u001b[0m\u001b[37m\u001b[0m \u001b[1m17s\u001b[0m 3s/step - loss: 0.4740 - val_loss: 0.4487\n",
      "Epoch 7/100\n",
      "\u001b[1m4/6\u001b[0m \u001b[32m━━━━━━━━━━━━━\u001b[0m\u001b[37m━━━━━━━\u001b[0m \u001b[1m1s\u001b[0m 654ms/step - loss: 0.4395"
     ]
    },
    {
     "ename": "KeyboardInterrupt",
     "evalue": "",
     "output_type": "error",
     "traceback": [
      "\u001b[1;31m---------------------------------------------------------------------------\u001b[0m",
      "\u001b[1;31mKeyboardInterrupt\u001b[0m                         Traceback (most recent call last)",
      "Cell \u001b[1;32mIn[63], line 5\u001b[0m\n\u001b[0;32m      3\u001b[0m outputs \u001b[38;5;241m=\u001b[39m aSSRA()\n\u001b[0;32m      4\u001b[0m model \u001b[38;5;241m=\u001b[39m tf\u001b[38;5;241m.\u001b[39mkeras\u001b[38;5;241m.\u001b[39mModel(inputs\u001b[38;5;241m=\u001b[39mall_inputs, outputs\u001b[38;5;241m=\u001b[39moutputs)\n\u001b[1;32m----> 5\u001b[0m model, history, t_cal \u001b[38;5;241m=\u001b[39m train_model(model, train_data, train_label, val_data, val_label, Nepoch\u001b[38;5;241m=\u001b[39m\u001b[38;5;241m100\u001b[39m)\n",
      "Cell \u001b[1;32mIn[61], line 6\u001b[0m, in \u001b[0;36mtrain_model\u001b[1;34m(model, train_data, train_label, val_data, val_label, list_lr, Nepoch)\u001b[0m\n\u001b[0;32m      4\u001b[0m   adam \u001b[38;5;241m=\u001b[39m tf\u001b[38;5;241m.\u001b[39mkeras\u001b[38;5;241m.\u001b[39moptimizers\u001b[38;5;241m.\u001b[39mAdam(learning_rate\u001b[38;5;241m=\u001b[39mlr)\n\u001b[0;32m      5\u001b[0m   model\u001b[38;5;241m.\u001b[39mcompile(loss\u001b[38;5;241m=\u001b[39mtf\u001b[38;5;241m.\u001b[39mkeras\u001b[38;5;241m.\u001b[39mlosses\u001b[38;5;241m.\u001b[39mmae, optimizer\u001b[38;5;241m=\u001b[39madam)\n\u001b[1;32m----> 6\u001b[0m   history \u001b[38;5;241m=\u001b[39m model\u001b[38;5;241m.\u001b[39mfit( x\u001b[38;5;241m=\u001b[39mtrain_data, y\u001b[38;5;241m=\u001b[39mtrain_label, epochs\u001b[38;5;241m=\u001b[39mNepoch, batch_size\u001b[38;5;241m=\u001b[39m\u001b[38;5;241m512\u001b[39m,\n\u001b[0;32m      7\u001b[0m           validation_data\u001b[38;5;241m=\u001b[39m(val_data, val_label), callbacks\u001b[38;5;241m=\u001b[39mall_callbacks, shuffle\u001b[38;5;241m=\u001b[39m\u001b[38;5;28;01mTrue\u001b[39;00m, verbose \u001b[38;5;241m=\u001b[39m \u001b[38;5;28;01mTrue\u001b[39;00m)\n\u001b[0;32m      9\u001b[0m t_end \u001b[38;5;241m=\u001b[39m time\u001b[38;5;241m.\u001b[39mtime()\n\u001b[0;32m     10\u001b[0m t_cal \u001b[38;5;241m=\u001b[39m t_end \u001b[38;5;241m-\u001b[39m t_start\n",
      "File \u001b[1;32mE:\\anaconda3\\Lib\\site-packages\\keras\\src\\utils\\traceback_utils.py:117\u001b[0m, in \u001b[0;36mfilter_traceback.<locals>.error_handler\u001b[1;34m(*args, **kwargs)\u001b[0m\n\u001b[0;32m    115\u001b[0m filtered_tb \u001b[38;5;241m=\u001b[39m \u001b[38;5;28;01mNone\u001b[39;00m\n\u001b[0;32m    116\u001b[0m \u001b[38;5;28;01mtry\u001b[39;00m:\n\u001b[1;32m--> 117\u001b[0m     \u001b[38;5;28;01mreturn\u001b[39;00m fn(\u001b[38;5;241m*\u001b[39margs, \u001b[38;5;241m*\u001b[39m\u001b[38;5;241m*\u001b[39mkwargs)\n\u001b[0;32m    118\u001b[0m \u001b[38;5;28;01mexcept\u001b[39;00m \u001b[38;5;167;01mException\u001b[39;00m \u001b[38;5;28;01mas\u001b[39;00m e:\n\u001b[0;32m    119\u001b[0m     filtered_tb \u001b[38;5;241m=\u001b[39m _process_traceback_frames(e\u001b[38;5;241m.\u001b[39m__traceback__)\n",
      "File \u001b[1;32mE:\\anaconda3\\Lib\\site-packages\\keras\\src\\backend\\tensorflow\\trainer.py:320\u001b[0m, in \u001b[0;36mTensorFlowTrainer.fit\u001b[1;34m(self, x, y, batch_size, epochs, verbose, callbacks, validation_split, validation_data, shuffle, class_weight, sample_weight, initial_epoch, steps_per_epoch, validation_steps, validation_batch_size, validation_freq)\u001b[0m\n\u001b[0;32m    318\u001b[0m \u001b[38;5;28;01mfor\u001b[39;00m step, iterator \u001b[38;5;129;01min\u001b[39;00m epoch_iterator\u001b[38;5;241m.\u001b[39menumerate_epoch():\n\u001b[0;32m    319\u001b[0m     callbacks\u001b[38;5;241m.\u001b[39mon_train_batch_begin(step)\n\u001b[1;32m--> 320\u001b[0m     logs \u001b[38;5;241m=\u001b[39m \u001b[38;5;28mself\u001b[39m\u001b[38;5;241m.\u001b[39mtrain_function(iterator)\n\u001b[0;32m    321\u001b[0m     callbacks\u001b[38;5;241m.\u001b[39mon_train_batch_end(step, logs)\n\u001b[0;32m    322\u001b[0m     \u001b[38;5;28;01mif\u001b[39;00m \u001b[38;5;28mself\u001b[39m\u001b[38;5;241m.\u001b[39mstop_training:\n",
      "File \u001b[1;32mE:\\anaconda3\\Lib\\site-packages\\tensorflow\\python\\util\\traceback_utils.py:150\u001b[0m, in \u001b[0;36mfilter_traceback.<locals>.error_handler\u001b[1;34m(*args, **kwargs)\u001b[0m\n\u001b[0;32m    148\u001b[0m filtered_tb \u001b[38;5;241m=\u001b[39m \u001b[38;5;28;01mNone\u001b[39;00m\n\u001b[0;32m    149\u001b[0m \u001b[38;5;28;01mtry\u001b[39;00m:\n\u001b[1;32m--> 150\u001b[0m   \u001b[38;5;28;01mreturn\u001b[39;00m fn(\u001b[38;5;241m*\u001b[39margs, \u001b[38;5;241m*\u001b[39m\u001b[38;5;241m*\u001b[39mkwargs)\n\u001b[0;32m    151\u001b[0m \u001b[38;5;28;01mexcept\u001b[39;00m \u001b[38;5;167;01mException\u001b[39;00m \u001b[38;5;28;01mas\u001b[39;00m e:\n\u001b[0;32m    152\u001b[0m   filtered_tb \u001b[38;5;241m=\u001b[39m _process_traceback_frames(e\u001b[38;5;241m.\u001b[39m__traceback__)\n",
      "File \u001b[1;32mE:\\anaconda3\\Lib\\site-packages\\tensorflow\\python\\eager\\polymorphic_function\\polymorphic_function.py:833\u001b[0m, in \u001b[0;36mFunction.__call__\u001b[1;34m(self, *args, **kwds)\u001b[0m\n\u001b[0;32m    830\u001b[0m compiler \u001b[38;5;241m=\u001b[39m \u001b[38;5;124m\"\u001b[39m\u001b[38;5;124mxla\u001b[39m\u001b[38;5;124m\"\u001b[39m \u001b[38;5;28;01mif\u001b[39;00m \u001b[38;5;28mself\u001b[39m\u001b[38;5;241m.\u001b[39m_jit_compile \u001b[38;5;28;01melse\u001b[39;00m \u001b[38;5;124m\"\u001b[39m\u001b[38;5;124mnonXla\u001b[39m\u001b[38;5;124m\"\u001b[39m\n\u001b[0;32m    832\u001b[0m \u001b[38;5;28;01mwith\u001b[39;00m OptionalXlaContext(\u001b[38;5;28mself\u001b[39m\u001b[38;5;241m.\u001b[39m_jit_compile):\n\u001b[1;32m--> 833\u001b[0m   result \u001b[38;5;241m=\u001b[39m \u001b[38;5;28mself\u001b[39m\u001b[38;5;241m.\u001b[39m_call(\u001b[38;5;241m*\u001b[39margs, \u001b[38;5;241m*\u001b[39m\u001b[38;5;241m*\u001b[39mkwds)\n\u001b[0;32m    835\u001b[0m new_tracing_count \u001b[38;5;241m=\u001b[39m \u001b[38;5;28mself\u001b[39m\u001b[38;5;241m.\u001b[39mexperimental_get_tracing_count()\n\u001b[0;32m    836\u001b[0m without_tracing \u001b[38;5;241m=\u001b[39m (tracing_count \u001b[38;5;241m==\u001b[39m new_tracing_count)\n",
      "File \u001b[1;32mE:\\anaconda3\\Lib\\site-packages\\tensorflow\\python\\eager\\polymorphic_function\\polymorphic_function.py:878\u001b[0m, in \u001b[0;36mFunction._call\u001b[1;34m(self, *args, **kwds)\u001b[0m\n\u001b[0;32m    875\u001b[0m \u001b[38;5;28mself\u001b[39m\u001b[38;5;241m.\u001b[39m_lock\u001b[38;5;241m.\u001b[39mrelease()\n\u001b[0;32m    876\u001b[0m \u001b[38;5;66;03m# In this case we have not created variables on the first call. So we can\u001b[39;00m\n\u001b[0;32m    877\u001b[0m \u001b[38;5;66;03m# run the first trace but we should fail if variables are created.\u001b[39;00m\n\u001b[1;32m--> 878\u001b[0m results \u001b[38;5;241m=\u001b[39m tracing_compilation\u001b[38;5;241m.\u001b[39mcall_function(\n\u001b[0;32m    879\u001b[0m     args, kwds, \u001b[38;5;28mself\u001b[39m\u001b[38;5;241m.\u001b[39m_variable_creation_config\n\u001b[0;32m    880\u001b[0m )\n\u001b[0;32m    881\u001b[0m \u001b[38;5;28;01mif\u001b[39;00m \u001b[38;5;28mself\u001b[39m\u001b[38;5;241m.\u001b[39m_created_variables:\n\u001b[0;32m    882\u001b[0m   \u001b[38;5;28;01mraise\u001b[39;00m \u001b[38;5;167;01mValueError\u001b[39;00m(\u001b[38;5;124m\"\u001b[39m\u001b[38;5;124mCreating variables on a non-first call to a function\u001b[39m\u001b[38;5;124m\"\u001b[39m\n\u001b[0;32m    883\u001b[0m                    \u001b[38;5;124m\"\u001b[39m\u001b[38;5;124m decorated with tf.function.\u001b[39m\u001b[38;5;124m\"\u001b[39m)\n",
      "File \u001b[1;32mE:\\anaconda3\\Lib\\site-packages\\tensorflow\\python\\eager\\polymorphic_function\\tracing_compilation.py:139\u001b[0m, in \u001b[0;36mcall_function\u001b[1;34m(args, kwargs, tracing_options)\u001b[0m\n\u001b[0;32m    137\u001b[0m bound_args \u001b[38;5;241m=\u001b[39m function\u001b[38;5;241m.\u001b[39mfunction_type\u001b[38;5;241m.\u001b[39mbind(\u001b[38;5;241m*\u001b[39margs, \u001b[38;5;241m*\u001b[39m\u001b[38;5;241m*\u001b[39mkwargs)\n\u001b[0;32m    138\u001b[0m flat_inputs \u001b[38;5;241m=\u001b[39m function\u001b[38;5;241m.\u001b[39mfunction_type\u001b[38;5;241m.\u001b[39munpack_inputs(bound_args)\n\u001b[1;32m--> 139\u001b[0m \u001b[38;5;28;01mreturn\u001b[39;00m function\u001b[38;5;241m.\u001b[39m_call_flat(  \u001b[38;5;66;03m# pylint: disable=protected-access\u001b[39;00m\n\u001b[0;32m    140\u001b[0m     flat_inputs, captured_inputs\u001b[38;5;241m=\u001b[39mfunction\u001b[38;5;241m.\u001b[39mcaptured_inputs\n\u001b[0;32m    141\u001b[0m )\n",
      "File \u001b[1;32mE:\\anaconda3\\Lib\\site-packages\\tensorflow\\python\\eager\\polymorphic_function\\concrete_function.py:1322\u001b[0m, in \u001b[0;36mConcreteFunction._call_flat\u001b[1;34m(self, tensor_inputs, captured_inputs)\u001b[0m\n\u001b[0;32m   1318\u001b[0m possible_gradient_type \u001b[38;5;241m=\u001b[39m gradients_util\u001b[38;5;241m.\u001b[39mPossibleTapeGradientTypes(args)\n\u001b[0;32m   1319\u001b[0m \u001b[38;5;28;01mif\u001b[39;00m (possible_gradient_type \u001b[38;5;241m==\u001b[39m gradients_util\u001b[38;5;241m.\u001b[39mPOSSIBLE_GRADIENT_TYPES_NONE\n\u001b[0;32m   1320\u001b[0m     \u001b[38;5;129;01mand\u001b[39;00m executing_eagerly):\n\u001b[0;32m   1321\u001b[0m   \u001b[38;5;66;03m# No tape is watching; skip to running the function.\u001b[39;00m\n\u001b[1;32m-> 1322\u001b[0m   \u001b[38;5;28;01mreturn\u001b[39;00m \u001b[38;5;28mself\u001b[39m\u001b[38;5;241m.\u001b[39m_inference_function\u001b[38;5;241m.\u001b[39mcall_preflattened(args)\n\u001b[0;32m   1323\u001b[0m forward_backward \u001b[38;5;241m=\u001b[39m \u001b[38;5;28mself\u001b[39m\u001b[38;5;241m.\u001b[39m_select_forward_and_backward_functions(\n\u001b[0;32m   1324\u001b[0m     args,\n\u001b[0;32m   1325\u001b[0m     possible_gradient_type,\n\u001b[0;32m   1326\u001b[0m     executing_eagerly)\n\u001b[0;32m   1327\u001b[0m forward_function, args_with_tangents \u001b[38;5;241m=\u001b[39m forward_backward\u001b[38;5;241m.\u001b[39mforward()\n",
      "File \u001b[1;32mE:\\anaconda3\\Lib\\site-packages\\tensorflow\\python\\eager\\polymorphic_function\\atomic_function.py:216\u001b[0m, in \u001b[0;36mAtomicFunction.call_preflattened\u001b[1;34m(self, args)\u001b[0m\n\u001b[0;32m    214\u001b[0m \u001b[38;5;28;01mdef\u001b[39;00m\u001b[38;5;250m \u001b[39m\u001b[38;5;21mcall_preflattened\u001b[39m(\u001b[38;5;28mself\u001b[39m, args: Sequence[core\u001b[38;5;241m.\u001b[39mTensor]) \u001b[38;5;241m-\u001b[39m\u001b[38;5;241m>\u001b[39m Any:\n\u001b[0;32m    215\u001b[0m \u001b[38;5;250m  \u001b[39m\u001b[38;5;124;03m\"\"\"Calls with flattened tensor inputs and returns the structured output.\"\"\"\u001b[39;00m\n\u001b[1;32m--> 216\u001b[0m   flat_outputs \u001b[38;5;241m=\u001b[39m \u001b[38;5;28mself\u001b[39m\u001b[38;5;241m.\u001b[39mcall_flat(\u001b[38;5;241m*\u001b[39margs)\n\u001b[0;32m    217\u001b[0m   \u001b[38;5;28;01mreturn\u001b[39;00m \u001b[38;5;28mself\u001b[39m\u001b[38;5;241m.\u001b[39mfunction_type\u001b[38;5;241m.\u001b[39mpack_output(flat_outputs)\n",
      "File \u001b[1;32mE:\\anaconda3\\Lib\\site-packages\\tensorflow\\python\\eager\\polymorphic_function\\atomic_function.py:251\u001b[0m, in \u001b[0;36mAtomicFunction.call_flat\u001b[1;34m(self, *args)\u001b[0m\n\u001b[0;32m    249\u001b[0m \u001b[38;5;28;01mwith\u001b[39;00m record\u001b[38;5;241m.\u001b[39mstop_recording():\n\u001b[0;32m    250\u001b[0m   \u001b[38;5;28;01mif\u001b[39;00m \u001b[38;5;28mself\u001b[39m\u001b[38;5;241m.\u001b[39m_bound_context\u001b[38;5;241m.\u001b[39mexecuting_eagerly():\n\u001b[1;32m--> 251\u001b[0m     outputs \u001b[38;5;241m=\u001b[39m \u001b[38;5;28mself\u001b[39m\u001b[38;5;241m.\u001b[39m_bound_context\u001b[38;5;241m.\u001b[39mcall_function(\n\u001b[0;32m    252\u001b[0m         \u001b[38;5;28mself\u001b[39m\u001b[38;5;241m.\u001b[39mname,\n\u001b[0;32m    253\u001b[0m         \u001b[38;5;28mlist\u001b[39m(args),\n\u001b[0;32m    254\u001b[0m         \u001b[38;5;28mlen\u001b[39m(\u001b[38;5;28mself\u001b[39m\u001b[38;5;241m.\u001b[39mfunction_type\u001b[38;5;241m.\u001b[39mflat_outputs),\n\u001b[0;32m    255\u001b[0m     )\n\u001b[0;32m    256\u001b[0m   \u001b[38;5;28;01melse\u001b[39;00m:\n\u001b[0;32m    257\u001b[0m     outputs \u001b[38;5;241m=\u001b[39m make_call_op_in_graph(\n\u001b[0;32m    258\u001b[0m         \u001b[38;5;28mself\u001b[39m,\n\u001b[0;32m    259\u001b[0m         \u001b[38;5;28mlist\u001b[39m(args),\n\u001b[0;32m    260\u001b[0m         \u001b[38;5;28mself\u001b[39m\u001b[38;5;241m.\u001b[39m_bound_context\u001b[38;5;241m.\u001b[39mfunction_call_options\u001b[38;5;241m.\u001b[39mas_attrs(),\n\u001b[0;32m    261\u001b[0m     )\n",
      "File \u001b[1;32mE:\\anaconda3\\Lib\\site-packages\\tensorflow\\python\\eager\\context.py:1552\u001b[0m, in \u001b[0;36mContext.call_function\u001b[1;34m(self, name, tensor_inputs, num_outputs)\u001b[0m\n\u001b[0;32m   1550\u001b[0m cancellation_context \u001b[38;5;241m=\u001b[39m cancellation\u001b[38;5;241m.\u001b[39mcontext()\n\u001b[0;32m   1551\u001b[0m \u001b[38;5;28;01mif\u001b[39;00m cancellation_context \u001b[38;5;129;01mis\u001b[39;00m \u001b[38;5;28;01mNone\u001b[39;00m:\n\u001b[1;32m-> 1552\u001b[0m   outputs \u001b[38;5;241m=\u001b[39m execute\u001b[38;5;241m.\u001b[39mexecute(\n\u001b[0;32m   1553\u001b[0m       name\u001b[38;5;241m.\u001b[39mdecode(\u001b[38;5;124m\"\u001b[39m\u001b[38;5;124mutf-8\u001b[39m\u001b[38;5;124m\"\u001b[39m),\n\u001b[0;32m   1554\u001b[0m       num_outputs\u001b[38;5;241m=\u001b[39mnum_outputs,\n\u001b[0;32m   1555\u001b[0m       inputs\u001b[38;5;241m=\u001b[39mtensor_inputs,\n\u001b[0;32m   1556\u001b[0m       attrs\u001b[38;5;241m=\u001b[39mattrs,\n\u001b[0;32m   1557\u001b[0m       ctx\u001b[38;5;241m=\u001b[39m\u001b[38;5;28mself\u001b[39m,\n\u001b[0;32m   1558\u001b[0m   )\n\u001b[0;32m   1559\u001b[0m \u001b[38;5;28;01melse\u001b[39;00m:\n\u001b[0;32m   1560\u001b[0m   outputs \u001b[38;5;241m=\u001b[39m execute\u001b[38;5;241m.\u001b[39mexecute_with_cancellation(\n\u001b[0;32m   1561\u001b[0m       name\u001b[38;5;241m.\u001b[39mdecode(\u001b[38;5;124m\"\u001b[39m\u001b[38;5;124mutf-8\u001b[39m\u001b[38;5;124m\"\u001b[39m),\n\u001b[0;32m   1562\u001b[0m       num_outputs\u001b[38;5;241m=\u001b[39mnum_outputs,\n\u001b[1;32m   (...)\u001b[0m\n\u001b[0;32m   1566\u001b[0m       cancellation_manager\u001b[38;5;241m=\u001b[39mcancellation_context,\n\u001b[0;32m   1567\u001b[0m   )\n",
      "File \u001b[1;32mE:\\anaconda3\\Lib\\site-packages\\tensorflow\\python\\eager\\execute.py:53\u001b[0m, in \u001b[0;36mquick_execute\u001b[1;34m(op_name, num_outputs, inputs, attrs, ctx, name)\u001b[0m\n\u001b[0;32m     51\u001b[0m \u001b[38;5;28;01mtry\u001b[39;00m:\n\u001b[0;32m     52\u001b[0m   ctx\u001b[38;5;241m.\u001b[39mensure_initialized()\n\u001b[1;32m---> 53\u001b[0m   tensors \u001b[38;5;241m=\u001b[39m pywrap_tfe\u001b[38;5;241m.\u001b[39mTFE_Py_Execute(ctx\u001b[38;5;241m.\u001b[39m_handle, device_name, op_name,\n\u001b[0;32m     54\u001b[0m                                       inputs, attrs, num_outputs)\n\u001b[0;32m     55\u001b[0m \u001b[38;5;28;01mexcept\u001b[39;00m core\u001b[38;5;241m.\u001b[39m_NotOkStatusException \u001b[38;5;28;01mas\u001b[39;00m e:\n\u001b[0;32m     56\u001b[0m   \u001b[38;5;28;01mif\u001b[39;00m name \u001b[38;5;129;01mis\u001b[39;00m \u001b[38;5;129;01mnot\u001b[39;00m \u001b[38;5;28;01mNone\u001b[39;00m:\n",
      "\u001b[1;31mKeyboardInterrupt\u001b[0m: "
     ]
    }
   ],
   "source": [
    "# First training\n",
    "all_inputs = tf.keras.layers.Input(shape=(L_all, N_time_series,))\n",
    "outputs = aSSRA()\n",
    "model = tf.keras.Model(inputs=all_inputs, outputs=outputs)\n",
    "model, history, t_cal = train_model(model, train_data, train_label, val_data, val_label, Nepoch=100)\n"
   ]
  },
  {
   "cell_type": "code",
   "execution_count": 64,
   "metadata": {
    "colab": {
     "base_uri": "https://localhost:8080/",
     "height": 1000
    },
    "id": "J9vLD6MEwktF",
    "outputId": "1608e015-d242-4962-a58f-696449e7128b"
   },
   "outputs": [
    {
     "name": "stdout",
     "output_type": "stream",
     "text": [
      "CPU times: total: 21.4 s\n",
      "Wall time: 15.9 s\n"
     ]
    }
   ],
   "source": [
    "%%time\n",
    "plt.figure(figsize=(10,14))\n",
    "list_ip = np.random.randint(0,len(df_new), 4)\n",
    "list_color = ['r', 'orange', 'm', 'g']\n",
    "for i,ip in enumerate(list_ip):\n",
    "  plt.subplot(421+i*2)\n",
    "  y_predict_all = inference_2(model, df_new, ip)\n",
    "  i_s = 2\n",
    "  length = len(df_new[list_output_time[i_s]][ip])\n",
    "  t= np.arange(0,len(df_new[list_output_time[i_s]][ip][200:]))*0.01\n",
    "  plt.plot(t, y_predict_all[L_all:L_all+length,i_s][200:],list_color[i], linewidth=2)\n",
    "  plt.plot(t, df_new[list_output_time[i_s]][ip][200:],'--k', alpha = 0.6, linewidth=2)\n",
    "  plt.legend(['a-SSRA', 'FEM'], loc=0)\n",
    "  plt.title(f'{ip} sensor {list_output_time[i_s]}', fontsize=12)\n",
    "  plt.xlabel('Time (s)')\n",
    "  plt.ylabel('Displacement (m)')\n",
    "  plt.ylim(-0.01, 0.01)\n",
    "  plt.grid(True)\n",
    "\n",
    "\n",
    "  plt.subplot(422+i*2)\n",
    "  y_predict_all = inference_2(model, df_new, ip)\n",
    "  length = len(df_new[list_output_time[i_s]][ip])\n",
    "  t= np.arange(0,len(df_new[list_output_time[i_s]][ip][200:]))*0.01\n",
    "  t1 = np.random.randint(0,2200)\n",
    "  t2 = t1+500\n",
    "  yy = y_predict_all[L_all:L_all+length,i_s][200:]\n",
    "  plt.plot(t[t1:t2], yy[t1:t2],list_color[i], linewidth=2)\n",
    "  yy = df_new[list_output_time[i_s]][ip][200:]\n",
    "  plt.plot(t[t1:t2], yy[t1:t2],'--k', alpha = 0.6, linewidth=2)\n",
    "  plt.title(f'zoomed-in region {t1/100}-{t2/100}s', fontsize=12)\n",
    "  plt.xlabel('Time (s)')\n",
    "  plt.ylabel('Displacement (m)')\n",
    "  plt.grid(True)\n",
    "  plt.ylim(-0.01, 0.01)\n",
    "\n",
    "\n",
    "plt.tight_layout();"
   ]
  },
  {
   "cell_type": "code",
   "execution_count": null,
   "metadata": {
    "id": "6KbYqtEvGKoa"
   },
   "outputs": [],
   "source": []
  }
 ],
 "metadata": {
  "colab": {
   "provenance": []
  },
  "kernelspec": {
   "display_name": "Python 3 (ipykernel)",
   "language": "python",
   "name": "python3"
  },
  "language_info": {
   "codemirror_mode": {
    "name": "ipython",
    "version": 3
   },
   "file_extension": ".py",
   "mimetype": "text/x-python",
   "name": "python",
   "nbconvert_exporter": "python",
   "pygments_lexer": "ipython3",
   "version": "3.12.7"
  }
 },
 "nbformat": 4,
 "nbformat_minor": 4
}
